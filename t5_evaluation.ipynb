{
 "cells": [
  {
   "cell_type": "markdown",
   "metadata": {},
   "source": [
    "### Import dependencies"
   ]
  },
  {
   "cell_type": "code",
   "execution_count": 1,
   "metadata": {},
   "outputs": [],
   "source": [
    "import os\n",
    "import numpy as np\n",
    "import pandas as pd\n",
    "import time\n",
    "import matplotlib.pyplot as plt\n",
    "\n",
    "from tqdm import tqdm\n",
    "from transformers import T5Tokenizer, T5ForConditionalGeneration\n",
    "from datasets import load_dataset\n",
    "\n",
    "from sklearn.metrics import confusion_matrix, accuracy_score, recall_score, precision_score, f1_score\n"
   ]
  },
  {
   "cell_type": "markdown",
   "metadata": {},
   "source": [
    "### Load model"
   ]
  },
  {
   "cell_type": "code",
   "execution_count": 2,
   "metadata": {},
   "outputs": [
    {
     "data": {
      "application/vnd.jupyter.widget-view+json": {
       "model_id": "388d0b27fb874058826a44a3554e9110",
       "version_major": 2,
       "version_minor": 0
      },
      "text/plain": [
       "tokenizer_config.json:   0%|          | 0.00/2.54k [00:00<?, ?B/s]"
      ]
     },
     "metadata": {},
     "output_type": "display_data"
    },
    {
     "data": {
      "application/vnd.jupyter.widget-view+json": {
       "model_id": "8a3c237c0c8841e1af17df13dc614c4f",
       "version_major": 2,
       "version_minor": 0
      },
      "text/plain": [
       "spiece.model:   0%|          | 0.00/792k [00:00<?, ?B/s]"
      ]
     },
     "metadata": {},
     "output_type": "display_data"
    },
    {
     "data": {
      "application/vnd.jupyter.widget-view+json": {
       "model_id": "71b7637b05104a1bb74fdc471c57b732",
       "version_major": 2,
       "version_minor": 0
      },
      "text/plain": [
       "special_tokens_map.json:   0%|          | 0.00/2.20k [00:00<?, ?B/s]"
      ]
     },
     "metadata": {},
     "output_type": "display_data"
    },
    {
     "data": {
      "application/vnd.jupyter.widget-view+json": {
       "model_id": "19707e0dc56a4e788e93e53a2a537182",
       "version_major": 2,
       "version_minor": 0
      },
      "text/plain": [
       "tokenizer.json:   0%|          | 0.00/2.42M [00:00<?, ?B/s]"
      ]
     },
     "metadata": {},
     "output_type": "display_data"
    },
    {
     "name": "stderr",
     "output_type": "stream",
     "text": [
      "You are using the default legacy behaviour of the <class 'transformers.models.t5.tokenization_t5.T5Tokenizer'>. This is expected, and simply means that the `legacy` (previous) behavior will be used so nothing changes for you. If you want to use the new behaviour, set `legacy=False`. This should only be set if you understand what it means, and thoroughly read the reason why this was added as explained in https://github.com/huggingface/transformers/pull/24565\n",
      "Special tokens have been added in the vocabulary, make sure the associated word embeddings are fine-tuned or trained.\n"
     ]
    },
    {
     "data": {
      "application/vnd.jupyter.widget-view+json": {
       "model_id": "2d2a7ba38fbc4bd5a9896be4441f2640",
       "version_major": 2,
       "version_minor": 0
      },
      "text/plain": [
       "config.json:   0%|          | 0.00/1.40k [00:00<?, ?B/s]"
      ]
     },
     "metadata": {},
     "output_type": "display_data"
    },
    {
     "data": {
      "application/vnd.jupyter.widget-view+json": {
       "model_id": "d20eb7dfb09540928790610de07b300f",
       "version_major": 2,
       "version_minor": 0
      },
      "text/plain": [
       "model.safetensors:   0%|          | 0.00/308M [00:00<?, ?B/s]"
      ]
     },
     "metadata": {},
     "output_type": "display_data"
    },
    {
     "data": {
      "application/vnd.jupyter.widget-view+json": {
       "model_id": "60612ce7d696420bafce2889ec95f17f",
       "version_major": 2,
       "version_minor": 0
      },
      "text/plain": [
       "generation_config.json:   0%|          | 0.00/147 [00:00<?, ?B/s]"
      ]
     },
     "metadata": {},
     "output_type": "display_data"
    }
   ],
   "source": [
    "MODEL_NAME = \"google/flan-t5-small\"\n",
    "\n",
    "tokenizer = T5Tokenizer.from_pretrained(MODEL_NAME)\n",
    "model = T5ForConditionalGeneration.from_pretrained(MODEL_NAME)"
   ]
  },
  {
   "cell_type": "markdown",
   "metadata": {},
   "source": [
    "### Load dataset"
   ]
  },
  {
   "cell_type": "code",
   "execution_count": 3,
   "metadata": {},
   "outputs": [],
   "source": [
    "TEST_DATASET_PATH = os.path.join(\"data\", \"test.csv\")\n",
    "\n",
    "test_dataset = load_dataset('csv', data_files=TEST_DATASET_PATH)['train']"
   ]
  },
  {
   "cell_type": "markdown",
   "metadata": {},
   "source": [
    "### Evaluate model"
   ]
  },
  {
   "cell_type": "code",
   "execution_count": 4,
   "metadata": {},
   "outputs": [],
   "source": [
    "def classify_review(text):\n",
    "    input_text = f\"\"\"\n",
    "Please rate the review below on a scale from 1 to 5:\n",
    "1 - Very Bad, 2 - Bad, 3 - Fair, 4 - Good, 5 - Excellent\n",
    "\n",
    "Review:\n",
    "{text}\n",
    "\n",
    "Please enter your rating here: \n",
    "    \"\"\".strip()\n",
    "    input_ids = tokenizer(input_text, return_tensors=\"pt\", padding=True, truncation=True).input_ids\n",
    "    outputs = model.generate(input_ids, max_new_tokens=5)\n",
    "    predicted_rating_text = tokenizer.decode(outputs[0], skip_special_tokens=True)\n",
    "    try:\n",
    "        predicted_rating = int(predicted_rating_text)\n",
    "    except ValueError:\n",
    "        predicted_rating = None\n",
    "    return predicted_rating"
   ]
  },
  {
   "cell_type": "code",
   "execution_count": 5,
   "metadata": {},
   "outputs": [
    {
     "name": "stderr",
     "output_type": "stream",
     "text": [
      "100%|██████████| 3074/3074 [02:28<00:00, 20.28it/s]"
     ]
    }
   ],
   "source": [
    "results = []\n",
    "\n",
    "progress_bar = tqdm(total=len(test_dataset['text']))\n",
    "for i, review in enumerate(test_dataset['text']):\n",
    "    time_start = time.time()\n",
    "    rating_predicted = classify_review(review)\n",
    "    time_end = time.time()\n",
    "    \n",
    "    results.append({\n",
    "        \"review\": review,\n",
    "        \"rating\": test_dataset['label'][i],\n",
    "        \"rating_predicted\": rating_predicted,\n",
    "        \"time\": time_end - time_start\n",
    "    })\n",
    "    \n",
    "    progress_bar.update(1)\n",
    "    \n",
    "df_eval = pd.DataFrame(results)"
   ]
  },
  {
   "cell_type": "markdown",
   "metadata": {},
   "source": [
    "### Evaluation Results"
   ]
  },
  {
   "cell_type": "code",
   "execution_count": 6,
   "metadata": {},
   "outputs": [],
   "source": [
    "def plot_confusion_matrix(cm_df):\n",
    "    sorted_index = sorted(cm_df.index, key=lambda x: str(x))\n",
    "    sorted_columns = sorted(cm_df.columns, key=lambda x: str(x))\n",
    "    cm_df = cm_df.loc[sorted_index, sorted_columns]\n",
    "\n",
    "    fig, ax = plt.subplots(figsize=(8, 5))\n",
    "    im = ax.imshow(cm_df, interpolation='nearest', cmap='Blues')\n",
    "    ax.figure.colorbar(im, ax=ax)\n",
    "\n",
    "    # Setting tick marks and labels\n",
    "    ax.set(xticks=np.arange(cm_df.shape[1]),\n",
    "           yticks=np.arange(cm_df.shape[0]),\n",
    "           xticklabels=sorted_columns, yticklabels=sorted_index,\n",
    "           title='Confusion Matrix',\n",
    "           ylabel='Actual labels',\n",
    "           xlabel='Predicted labels')\n",
    "\n",
    "    # Rotate the tick labels for better readability\n",
    "    plt.setp(ax.get_xticklabels(), rotation=45, ha=\"right\", rotation_mode=\"anchor\")\n",
    "\n",
    "    # Loop over data dimensions and create text annotations.\n",
    "    fmt = 'd'  # Use 'd' for integers, 'g' for more general formats\n",
    "    thresh = cm_df.values.max() / 2.  # Threshold for text color contrast\n",
    "    for i in range(cm_df.shape[0]):\n",
    "        for j in range(cm_df.shape[1]):\n",
    "            ax.text(j, i, format(cm_df.iat[i, j], fmt),\n",
    "                    ha=\"center\", va=\"center\",\n",
    "                    color=\"white\" if cm_df.iat[i, j] > thresh else \"black\")\n",
    "    \n",
    "    fig.tight_layout()\n",
    "    plt.show()"
   ]
  },
  {
   "cell_type": "code",
   "execution_count": 7,
   "metadata": {},
   "outputs": [
    {
     "name": "stderr",
     "output_type": "stream",
     "text": [
      "/Users/andrejkartavik/miniconda3/envs/pjn/lib/python3.9/site-packages/sklearn/metrics/_classification.py:1509: UndefinedMetricWarning: Precision is ill-defined and being set to 0.0 in labels with no predicted samples. Use `zero_division` parameter to control this behavior.\n",
      "  _warn_prf(average, modifier, f\"{metric.capitalize()} is\", len(result))\n"
     ]
    },
    {
     "data": {
      "image/png": "[encoded data removed]",
      "text/plain": [
       "<Figure size 800x500 with 2 Axes>"
      ]
     },
     "metadata": {},
     "output_type": "display_data"
    },
    {
     "name": "stdout",
     "output_type": "stream",
     "text": [
      "Accuracy: 0.3383214053350683\n",
      "Recall: 0.30550593773932033\n",
      "Precision: 0.46470452695162967\n",
      "F1 Score: 0.2156476468622548\n",
      "Average time per review: 0.047648537368377306\n"
     ]
    }
   ],
   "source": [
    "def compute_metrics(df, true_col, pred_col):\n",
    "    # Calculate confusion matrix\n",
    "    labels = df[true_col].unique()\n",
    "    cm = confusion_matrix(df[true_col], df[pred_col], labels=labels)\n",
    "    cm_df = pd.DataFrame(cm, index=labels, columns=labels)\n",
    "    \n",
    "    # Calculate accuracy, precision, recall, and F1 score\n",
    "    accuracy = accuracy_score(df[true_col], df[pred_col])\n",
    "    recall = recall_score(df[true_col], df[pred_col], average='macro')\n",
    "    precision = precision_score(df[true_col], df[pred_col], average='macro')\n",
    "    f1 = f1_score(df[true_col], df[pred_col], average='macro')\n",
    "    \n",
    "    avg_time = df['time'].mean()\n",
    "    \n",
    "    return cm_df, accuracy, recall, precision, f1, avg_time\n",
    "\n",
    "cm_df, accuracy, recall, precision, f1, avg_time = compute_metrics(df_eval, 'rating', 'rating_predicted')\n",
    "plot_confusion_matrix(cm_df)\n",
    "print(\"Accuracy:\", accuracy)\n",
    "print(\"Recall:\", recall)\n",
    "print(\"Precision:\", precision)\n",
    "print(\"F1 Score:\", f1)\n",
    "print(\"Average time per review:\", avg_time)"
   ]
  }
 ],
 "metadata": {
  "kernelspec": {
   "display_name": "pjn",
   "language": "python",
   "name": "python3"
  },
  "language_info": {
   "codemirror_mode": {
    "name": "ipython",
    "version": 3
   },
   "file_extension": ".py",
   "mimetype": "text/x-python",
   "name": "python",
   "nbconvert_exporter": "python",
   "pygments_lexer": "ipython3",
   "version": "3.9.19"
  }
 },
 "nbformat": 4,
 "nbformat_minor": 2
}
