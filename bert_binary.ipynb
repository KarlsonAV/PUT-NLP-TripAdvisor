{
 "cells": [
  {
   "cell_type": "markdown",
   "metadata": {},
   "source": [
    "### Import the required libraries"
   ]
  },
  {
   "cell_type": "code",
   "execution_count": null,
   "metadata": {},
   "outputs": [],
   "source": [
    "import os\n",
    "import sys\n",
    "import torch\n",
    "import numpy as np\n",
    "import logging\n",
    "\n",
    "from transformers import AutoTokenizer, AutoModelForSequenceClassification\n",
    "from transformers import Trainer, TrainingArguments\n",
    "from datasets import load_dataset, load_metric\n",
    "\n",
    "logging.getLogger().setLevel(logging.INFO)"
   ]
  },
  {
   "cell_type": "markdown",
   "metadata": {},
   "source": [
    "### Load model and tokenizer"
   ]
  },
  {
   "cell_type": "code",
   "execution_count": null,
   "metadata": {},
   "outputs": [],
   "source": [
    "MODEL_NAME = [\"bert-small-uncased\",\"bert-base-uncased\",\"bert-large-uncased\"]\n",
    "\n",
    "models = {MODEL: AutoModelForSequenceClassification.from_pretrained(MODEL, num_labels=2) for MODEL in MODEL_NAME}\n",
    "tokenizers = {MODEL: AutoTokenizer.from_pretrained(MODEL) for MODEL in MODEL_NAME}\n",
    "\n",
    "desired_labels=[1,2,3,4,5]"
   ]
  },
  {
   "cell_type": "code",
   "execution_count": null,
   "metadata": {},
   "outputs": [],
   "source": [
    "def get_device():\n",
    "    if torch.cuda.is_available():\n",
    "        return torch.device('cuda')\n",
    "    elif torch.backends.mps.is_available():\n",
    "        return torch.device('mps')\n",
    "    else:\n",
    "        return torch.device('cpu')\n",
    "\n",
    "\n",
    "device = get_device()\n",
    "for model in models:\n",
    "    model.to(device)\n",
    "    print(f\"Using device: {device}\")"
   ]
  },
  {
   "cell_type": "markdown",
   "metadata": {},
   "source": [
    "### Prepare data for training"
   ]
  },
  {
   "cell_type": "code",
   "execution_count": null,
   "metadata": {},
   "outputs": [],
   "source": [
    "TRAIN_DATASET_PATH = os.path.join(\"data\", \"train.csv\")\n",
    "VAL_DATASET_PATH = os.path.join(\"data\", \"val.csv\")\n",
    "\n",
    "train_dataset = load_dataset('csv', data_files=TRAIN_DATASET_PATH)\n",
    "val_dataset = load_dataset('csv', data_files=VAL_DATASET_PATH)"
   ]
  },
  {
   "cell_type": "code",
   "execution_count": null,
   "metadata": {},
   "outputs": [],
   "source": [
    "def prepare_dataset_for_bert_training(dataset,model,desired):\n",
    "    # Rename the 'label' column to 'labels'\n",
    "    dataset = dataset.rename_column(\"label\", \"labels\")\n",
    "    \n",
    "    # Tokenize the text data in the dataset\n",
    "    dataset = dataset.map(lambda examples: tokenizers[model](examples[\"text\"], truncation=True, padding=True), batched=True)\n",
    "    \n",
    "    # Subtract 1 from each value in the 'labels' column\n",
    "    dataset = dataset.map(lambda examples: {\"labels\": [1 if label == desired else 0 for label in examples[\"labels\"]]}, batched=True)\n",
    "    \n",
    "    return dataset"
   ]
  },
  {
   "cell_type": "code",
   "execution_count": null,
   "metadata": {},
   "outputs": [],
   "source": [
    "for model_name in MODEL_NAME:\n",
    "    for desired_label in desired_labels:\n",
    "        train_dataset_tokenized = prepare_dataset_for_bert_training(train_dataset, model_name, desired_label).shuffle(seed=1697)\n",
    "        val_dataset_tokenized = prepare_dataset_for_bert_training(val_dataset, model_name, desired_label)\n",
    "        \n",
    "        print(f\"# Train dataset size for model {model_name} and desired label {desired_label}: {len(train_dataset_tokenized)}\")\n",
    "        print(f\"# Validation dataset size for model {model_name} and desired label {desired_label}: {len(val_dataset_tokenized)}\")"
   ]
  },
  {
   "cell_type": "markdown",
   "metadata": {},
   "source": [
    "### Prepare metrics"
   ]
  },
  {
   "cell_type": "code",
   "execution_count": null,
   "metadata": {},
   "outputs": [],
   "source": [
    "f1 = load_metric(\"f1\")\n",
    "precision = load_metric(\"precision\")\n",
    "recall = load_metric(\"recall\")\n",
    "\n",
    "def compute_metrics(eval_pred):\n",
    "    logits, labels = eval_pred\n",
    "    predictions = np.argmax(logits, axis=-1)\n",
    "    return {\n",
    "        \"f1\": f1.compute(predictions=predictions, references=labels, average='weighted')['f1'],\n",
    "        \"precision\": precision.compute(predictions=predictions, references=labels, average='weighted')['precision'],\n",
    "        \"recall\": recall.compute(predictions=predictions, references=labels, average='weighted')['recall']\n",
    "    }"
   ]
  },
  {
   "cell_type": "markdown",
   "metadata": {},
   "source": [
    "### Train model"
   ]
  },
  {
   "cell_type": "code",
   "execution_count": null,
   "metadata": {},
   "outputs": [],
   "source": [
    "for model_name in MODEL_NAME:\n",
    "    for desired_label in desired_labels:\n",
    "        train_dataset_tokenized = prepare_dataset_for_bert_training(train_dataset, model_name, desired_label).shuffle(seed=42)\n",
    "        val_dataset_tokenized = prepare_dataset_for_bert_training(val_dataset, model_name, desired_label)\n",
    "        \n",
    "        OUTPUT_DIR = os.path.join(\"models\", f\"{model_name}_desired_{desired_label}\")\n",
    "        os.environ[\"WANDB_PROJECT\"] = f\"{model_name}_training\"\n",
    "        \n",
    "        training_args = TrainingArguments(\n",
    "            output_dir=OUTPUT_DIR,\n",
    "            num_train_epochs=5,\n",
    "            learning_rate=2e-5,\n",
    "            weight_decay=0.01,\n",
    "            per_device_train_batch_size=8,\n",
    "            per_device_eval_batch_size=8,\n",
    "            logging_steps=30,\n",
    "            evaluation_strategy=\"steps\",\n",
    "            eval_steps=500,\n",
    "            save_steps=500,\n",
    "            save_total_limit=3,\n",
    "            load_best_model_at_end=True,\n",
    "            metric_for_best_model=\"f1\",\n",
    "            run_name=f\"{model_name}_desired_{desired_label}\",\n",
    "            report_to=\"wandb\",\n",
    "        )\n",
    "        \n",
    "        trainer = Trainer(\n",
    "            model=models[model_name],\n",
    "            args=training_args,\n",
    "            train_dataset=train_dataset_tokenized,\n",
    "            eval_dataset=val_dataset_tokenized,\n",
    "            compute_metrics=compute_metrics,\n",
    "        )\n",
    "        \n",
    "        trainer.train()\n",
    "\n",
    "        # Save model and tokenizer\n",
    "        models[model_name].save_pretrained(OUTPUT_DIR)\n",
    "        tokenizers[model_name].save_pretrained(OUTPUT_DIR)"
   ]
  },
  {
   "cell_type": "markdown",
   "metadata": {},
   "source": [
    "### Push to hub"
   ]
  },
  {
   "cell_type": "code",
   "execution_count": 1,
   "metadata": {},
   "outputs": [],
   "source": [
    "MODEL_HUB_PATH = \"Deptage/binaryBertTripAdvisor\"\n",
    "for model_name in MODEL_NAME:\n",
    "    models[model_name].push_to_hub(MODEL_HUB_PATH)\n",
    "    tokenizers[model_name].push_to_hub(MODEL_HUB_PATH)"
   ]
  }
 ],
 "metadata": {
  "kernelspec": {
   "display_name": "pjn",
   "language": "python",
   "name": "python3"
  },
  "language_info": {
   "codemirror_mode": {
    "name": "ipython",
    "version": 3
   },
   "file_extension": ".py",
   "mimetype": "text/x-python",
   "name": "python",
   "nbconvert_exporter": "python",
   "pygments_lexer": "ipython3",
   "version": "3.9.19"
  }
 },
 "nbformat": 4,
 "nbformat_minor": 2
}
